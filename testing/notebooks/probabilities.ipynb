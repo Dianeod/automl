{
 "cells": [
  {
   "cell_type": "code",
   "execution_count": 1,
   "metadata": {},
   "outputs": [
    {
     "name": "stderr",
     "output_type": "stream",
     "text": [
      "Using TensorFlow backend.\n",
      "2019-11-19 09:58:35.454878: I tensorflow/core/platform/cpu_feature_guard.cc:142] Your CPU supports instructions that this TensorFlow binary was not compiled to use: AVX2 FMA\n",
      "2019-11-19 09:58:35.487525: I tensorflow/core/platform/profile_utils/cpu_utils.cc:94] CPU Frequency: 4200000000 Hz\n",
      "2019-11-19 09:58:35.488182: I tensorflow/compiler/xla/service/service.cc:168] XLA service 0x5a6bfa0 executing computations on platform Host. Devices:\n",
      "2019-11-19 09:58:35.488215: I tensorflow/compiler/xla/service/service.cc:175]   StreamExecutor device (0): <undefined>, <undefined>\n"
     ]
    }
   ],
   "source": [
    "\\l ../automl.q\n",
    ".aml.loadfile`:init.q"
   ]
  },
  {
   "cell_type": "code",
   "execution_count": 2,
   "metadata": {},
   "outputs": [],
   "source": [
    "n:1000\n",
    "x:flip(n?1f;n?2f;n?50;asc n?100)\n",
    "y:asc n?0b\n",
    "d:.ml.traintestsplit[x;y;.2]"
   ]
  },
  {
   "cell_type": "code",
   "execution_count": 3,
   "metadata": {},
   "outputs": [
    {
     "name": "stderr",
     "output_type": "stream",
     "text": [
      "/home/cmccarthy/anaconda3/envs/newq/lib/python3.6/site-packages/sklearn/ensemble/weight_boosting.py:29: DeprecationWarning: numpy.core.umath_tests is an internal NumPy module and should not be imported. It will be removed in a future NumPy release.\n",
      "  from numpy.core.umath_tests import inner1d\n"
     ]
    }
   ],
   "source": [
    "rfc:.p.import[`sklearn.ensemble][`:RandomForestClassifier][]\n",
    "rfc[`:fit]. value 2#d;\n",
    "p:rfc[`:predict_proba][d`xtest]`"
   ]
  },
  {
   "cell_type": "code",
   "execution_count": 4,
   "metadata": {},
   "outputs": [
    {
     "name": "stdout",
     "output_type": "stream",
     "text": [
      "pc  | 0                                                                      ..\n",
      "gain| 0 0.0106383   0.0212766  0.03191489 0.04255319 0.05319149 0.06382979 0...\n",
      "pcnt| 0 0.005 0.01 0.015 0.02 0.025 0.03 0.035 0.04 0.045 0.05 0.055 0.06 0.0..\n"
     ]
    }
   ],
   "source": [
    "show flip cg:.aml.post.cgcurve[d`ytest;p]"
   ]
  },
  {
   "cell_type": "code",
   "execution_count": 5,
   "metadata": {},
   "outputs": [
    {
     "ename": "\u001b[0;31mtype\u001b[0m",
     "evalue": "\u001b[0;31mtype\u001b[0m",
     "output_type": "error",
     "traceback": [
      "\u001b[0;31mevaluation error:\n\u001b[0m",
      "\u001b[0;31mtype\u001b[0m",
      "\u001b[0;31m\u001b[0m",
      "\u001b[0;31m  [1]  /home/cmccarthy/anaconda3/envs/newq/q/automl/code/postproc/utils.q:81: .aml.post.i.gainliftplt:\n  plt[`:ylabel][\"Gain\";`fontsize pykw 18];\n  plt[`:savefig][fpath[0][`images],\"/Lift_Gain_Curve.png\"];\n                 ^\n  plt[`:show][];}\n\u001b[0m",
      "\u001b[0;31m  [0]  .aml.post.i.gainliftplt[cg;`lift;\"testing.png\"]\n       ^\n\u001b[0m"
     ]
    }
   ],
   "source": [
    ".aml.post.i.gainliftplt[cg;`lift;\"testing.png\"]"
   ]
  },
  {
   "cell_type": "code",
   "execution_count": 6,
   "metadata": {},
   "outputs": [
    {
     "data": {
      "image/png": "[encoded data removed]",
      "text/plain": [
       "<Figure size 460.8x345.6 with 1 Axes>"
      ]
     },
     "metadata": {},
     "output_type": "display_data"
    }
   ],
   "source": [
    ".aml.i.gainliftplt[cg;`gain]"
   ]
  },
  {
   "cell_type": "markdown",
   "metadata": {},
   "source": [
    "---"
   ]
  }
 ],
 "metadata": {
  "kernelspec": {
   "display_name": "Q (kdb+)",
   "language": "q",
   "name": "qpk"
  },
  "language_info": {
   "file_extension": ".q",
   "mimetype": "text/x-q",
   "name": "q",
   "version": "3.6.0"
  }
 },
 "nbformat": 4,
 "nbformat_minor": 2
}
