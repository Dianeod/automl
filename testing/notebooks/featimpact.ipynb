{
 "cells": [
  {
   "cell_type": "code",
   "execution_count": 1,
   "metadata": {},
   "outputs": [
    {
     "name": "stderr",
     "output_type": "stream",
     "text": [
      "Using TensorFlow backend.\n",
      "2019-11-19 09:56:25.718238: I tensorflow/core/platform/cpu_feature_guard.cc:142] Your CPU supports instructions that this TensorFlow binary was not compiled to use: AVX2 FMA\n",
      "2019-11-19 09:56:25.751480: I tensorflow/core/platform/profile_utils/cpu_utils.cc:94] CPU Frequency: 4200000000 Hz\n",
      "2019-11-19 09:56:25.751943: I tensorflow/compiler/xla/service/service.cc:168] XLA service 0x61d4850 executing computations on platform Host. Devices:\n",
      "2019-11-19 09:56:25.751975: I tensorflow/compiler/xla/service/service.cc:175]   StreamExecutor device (0): <undefined>, <undefined>\n"
     ]
    }
   ],
   "source": [
    "\\l ../automl.q\n",
    ".aml.loadfile`:init.q"
   ]
  },
  {
   "cell_type": "code",
   "execution_count": 2,
   "metadata": {},
   "outputs": [],
   "source": [
    "n:10000\n",
    "x:([]n?20;n?100f;asc n?100f)\n",
    "yr:asc n?100f / regression\n",
    "yc:20?0b       / binary classification\n",
    "ym:n?`a`b`c   / multi classification\n",
    "k:3           / number of folds\n",
    "p:.2          / percentage of holdout\n",
    "n:1           / number of repetitions\n",
    "score_func:.aml.xv.fitpredict"
   ]
  },
  {
   "cell_type": "code",
   "execution_count": 6,
   "metadata": {},
   "outputs": [],
   "source": [
    "tb:x\n",
    "tgt:yc\n",
    "mdls:.aml.i.models[`class;yc;::]\n",
    "p:(::)\n",
    "typ:`fresh"
   ]
  },
  {
   "cell_type": "code",
   "execution_count": 7,
   "metadata": {},
   "outputs": [
    {
     "data": {
      "text/plain": [
       "model                      lib     fnc            seed typ    minit          ..\n",
       "-----------------------------------------------------------------------------..\n",
       "AdaBoostClassifier         sklearn ensemble       seed multi  {[x;y;z].p.impo..\n",
       "RandomForestClassifier     sklearn ensemble       seed multi  {[x;y;z].p.impo..\n",
       "GradientBoostingClassifier sklearn ensemble       seed multi  {[x;y;z].p.impo..\n",
       "LogisticRegression         sklearn linear_model   seed binary {[x;y;z].p.impo..\n",
       "GaussianNB                 sklearn naive_bayes    ::   binary {[x;y;z].p.impo..\n",
       "KNeighborsClassifier       sklearn neighbors      ::   multi  {[x;y;z].p.impo..\n",
       "MLPClassifier              sklearn neural_network seed multi  {[x;y;z].p.impo..\n",
       "SVC                        sklearn svm            seed binary {[x;y;z].p.impo..\n",
       "LinearSVC                  sklearn svm            seed binary {[x;y;z].p.impo..\n",
       "BinaryKeras                keras   binfitscore    seed binary {\n",
       " npa:.p.impor..\n"
      ]
     },
     "execution_count": 7,
     "metadata": {},
     "output_type": "execute_result"
    }
   ],
   "source": [
    "mdls"
   ]
  },
  {
   "cell_type": "code",
   "execution_count": 8,
   "metadata": {},
   "outputs": [],
   "source": [
    "mdls:select from mdls where lib<>`keras"
   ]
  },
  {
   "cell_type": "code",
   "execution_count": 8,
   "metadata": {
    "scrolled": false
   },
   "outputs": [
    {
     "ename": "\u001b[0;31mtype\u001b[0m",
     "evalue": "\u001b[0;31mtype\u001b[0m",
     "output_type": "error",
     "traceback": [
      "\u001b[0;31mevaluation error:\n\u001b[0m",
      "\u001b[0;31mtype\u001b[0m",
      "\u001b[0;31m\u001b[0m",
      "\u001b[0;31m  [2]  /home/cmccarthy/anaconda3/envs/newq/q/automl/code/utils.q:92: .aml.i.models:{[typ;tgt;p]\n  if[not typ in key proc.i.files;'`$\"text file not found\"];\n             ^\n  d:proc.i.txtparse[typ;\"/code/mdl_def/\"];\n\u001b[0m",
      "\u001b[0;31m  [1]  /home/cmccarthy/anaconda3/envs/newq/q/automl/code/aml.q:21: .aml.runexample:\n  if[dict[`saveopt]in 1 2;spaths:i.pathconstruct[dtdict;dict`saveopt]];\n  mdls:i.models[ptype;tgt;dict];\n       ^\n  system\"S \",string dict`seed;\n\u001b[0m",
      "\u001b[0;31m  [0]  .aml.runexample[tb;tgt;typ;mdls;p]\n       ^\n\u001b[0m"
     ]
    }
   ],
   "source": [
    ".aml.runexample[tb;tgt;typ;mdls;p]"
   ]
  },
  {
   "cell_type": "code",
   "execution_count": null,
   "metadata": {},
   "outputs": [],
   "source": []
  }
 ],
 "metadata": {
  "kernelspec": {
   "display_name": "Q (kdb+)",
   "language": "q",
   "name": "qpk"
  },
  "language_info": {
   "file_extension": ".q",
   "mimetype": "text/x-q",
   "name": "q",
   "version": "3.6.0"
  }
 },
 "nbformat": 4,
 "nbformat_minor": 2
}
