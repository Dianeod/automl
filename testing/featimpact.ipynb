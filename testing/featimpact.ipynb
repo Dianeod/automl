{
 "cells": [
  {
   "cell_type": "code",
   "execution_count": 1,
   "metadata": {},
   "outputs": [],
   "source": [
    "\\l ../automl.q\n",
    ".aml.loadfile`:init.q"
   ]
  },
  {
   "cell_type": "code",
   "execution_count": 2,
   "metadata": {},
   "outputs": [],
   "source": [
    "n:10000\n",
    "x:([]n?20;n?100f;asc n?100f)\n",
    "yr:asc n?100f / regression\n",
    "yc:20?0b       / binary classification\n",
    "ym:n?`a`b`c   / multi classification\n",
    "k:3           / number of folds\n",
    "p:.2          / percentage of holdout\n",
    "n:1           / number of repetitions\n",
    "score_func:.ml.xv.fitpredict"
   ]
  },
  {
   "cell_type": "code",
   "execution_count": 3,
   "metadata": {},
   "outputs": [],
   "source": [
    "tb:x\n",
    "tgt:yc\n",
    "mdls:.aml.models[`class;yc]\n",
    "p:(::)\n",
    "typ:`fresh"
   ]
  },
  {
   "cell_type": "code",
   "execution_count": 4,
   "metadata": {},
   "outputs": [
    {
     "name": "stdout",
     "output_type": "stream",
     "text": [
      "\n",
      "Data preprocessing completed, starting feature creation\n",
      "\n"
     ]
    },
    {
     "name": "stderr",
     "output_type": "stream",
     "text": [
      "/home/deanna/anaconda3/lib/python3.6/site-packages/scipy/stats/stats.py:1713: FutureWarning: Using a non-tuple sequence for multidimensional indexing is deprecated; use `arr[tuple(seq)]` instead of `arr[seq]`. In the future this will be interpreted as an array index, `arr[np.array(seq)]`, which will result either in an error or a different result.\n",
      "  return np.add.reduce(sorted[indexer] * weights, axis=axis) / sumval\n"
     ]
    },
    {
     "name": "stdout",
     "output_type": "stream",
     "text": [
      "Feature creation completed, starting initial model selection - allow time for large datasets\n",
      "\n",
      "Total features created = 434\n",
      "\n"
     ]
    },
    {
     "name": "stderr",
     "output_type": "stream",
     "text": [
      "/home/deanna/anaconda3/lib/python3.6/site-packages/sklearn/ensemble/weight_boosting.py:29: DeprecationWarning: numpy.core.umath_tests is an internal NumPy module and should not be imported. It will be removed in a future NumPy release.\n",
      "  from numpy.core.umath_tests import inner1d\n",
      "Using TensorFlow backend.\n",
      "2019-08-28 14:28:51.608811: I tensorflow/core/platform/cpu_feature_guard.cc:141] Your CPU supports instructions that this TensorFlow binary was not compiled to use: SSE4.1 SSE4.2 AVX AVX2 FMA\n",
      "2019-08-28 14:28:51.612840: I tensorflow/core/common_runtime/process_util.cc:69] Creating new thread pool with default inter op setting: 2. Tune using inter_op_parallelism_threads for best performance.\n"
     ]
    },
    {
     "name": "stdout",
     "output_type": "stream",
     "text": [
      "\n",
      "Scores for all models, using .ml.accuracy\n",
      "\n",
      "LogisticRegression        | 0.7\n",
      "GaussianNB                | 0.7\n",
      "SVC                       | 0.7\n",
      "RandomForestClassifier    | 0.6333333\n",
      "GradientBoostingClassifier| 0.5666667\n",
      "KNeighborsClassifier      | 0.5666667\n",
      "AdaBoostClassifier        | 0.5\n",
      "LinearSVC                 | 0.4333333\n",
      "MLPClassifier             | 0.3\n",
      "BinaryKeras               | 0.3\n",
      "\n",
      "Score for holdout predictions using best model - LogisticRegression\n",
      "\n",
      "0.1666667\n",
      "\n",
      "Feature impact calculated - see current directory for results\n",
      "\n",
      "Model selection has been completed, continuing to the next step\n",
      "\n"
     ]
    }
   ],
   "source": [
    ".aml.runexample[tb;tgt;typ;mdls;p]"
   ]
  }
 ],
 "metadata": {
  "kernelspec": {
   "display_name": "Q (kdb+)",
   "language": "q",
   "name": "qpk"
  },
  "language_info": {
   "file_extension": ".q",
   "mimetype": "text/x-q",
   "name": "q",
   "version": "3.6.0"
  }
 },
 "nbformat": 4,
 "nbformat_minor": 2
}
