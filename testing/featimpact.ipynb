{
 "cells": [
  {
   "cell_type": "code",
   "execution_count": null,
   "metadata": {},
   "outputs": [],
   "source": [
    "\\l ../automl.q\n",
    ".aml.loadfile`:init.q"
   ]
  },
  {
   "cell_type": "code",
   "execution_count": null,
   "metadata": {},
   "outputs": [],
   "source": [
    "/ original table\n",
    "n:100000\n",
    "show t:([]`date$asc n?til 50;n?`A`B`C;n?1f;n?1f;asc n?1f;asc n?1000;n?1000)\n",
    "show y:asc 50?til 6"
   ]
  },
  {
   "cell_type": "code",
   "execution_count": null,
   "metadata": {},
   "outputs": [],
   "source": [
    "/ prepare data\n",
    "t:.aml.i.symencode[t;10]\n",
    "t^:.ml.stdscaler select x1,x2,x3,x4 from t"
   ]
  },
  {
   "cell_type": "code",
   "execution_count": null,
   "metadata": {},
   "outputs": [],
   "source": [
    "/ keep a holdout set for testing\n",
    "tts:.ml.traintestsplit[t;y;.2]\n",
    "show holdout:-2#tts"
   ]
  },
  {
   "cell_type": "code",
   "execution_count": null,
   "metadata": {},
   "outputs": [],
   "source": [
    "/ training and validation sets\n",
    "show x:.ml.traintestsplit[;;.2]. tts`xtrain`ytrain"
   ]
  },
  {
   "cell_type": "code",
   "execution_count": null,
   "metadata": {},
   "outputs": [],
   "source": [
    "/ import and train a random forest\n",
    ".ml.mattab:{flip value flip x}\n",
    "rfc:.p.import[`sklearn.ensemble][`:RandomForestClassifier][]\n",
    "rfc[`:fit][.ml.mattab x`xtrain;x`ytrain];"
   ]
  },
  {
   "cell_type": "code",
   "execution_count": null,
   "metadata": {},
   "outputs": [],
   "source": [
    "/ validate model\n",
    "p:rfc[`:predict][.ml.mattab x`xtest]`;\n",
    ".ml.accuracy[p;x`ytest]"
   ]
  },
  {
   "cell_type": "code",
   "execution_count": null,
   "metadata": {},
   "outputs": [],
   "source": [
    "plt:.p.import`matplotlib.pyplot\n",
    ".ml.mattab:{flip value flip x}\n",
    ".ml.shuffle:{@[x;y;@;]neg[n]?n:count x}\n",
    ".aml.rerun:{[m;x;y;c;f]\n",
    " x:.ml.shuffle[x;c];\n",
    " p:m[`:predict][.ml.mattab x]`;\n",
    " f[p;y]}\n",
    ".aml.impact:{asc y!s%max s:$[z~`desc;1-;]$[any 0>x;.ml.minmaxscaler;]x}\n",
    ".aml.impactplot:{[r;m]\n",
    " sub:plt[`:subplots][];\n",
    " fig:sub[@;0];ax:sub[@;1];\n",
    " ax[`:barh][n:til count r;value r;`align pykw`center];\n",
    " ax[`:set_yticks][n];\n",
    " ax[`:set_yticklabels]key r;\n",
    " ax[`:set_title]\"Feature Impact: \",string m;\n",
    " ax[`:set_ylabel]\"Columns\";\n",
    " ax[`:set_xlabel]\"Relative feature impact\";\n",
    " /plt[`:savefig]sv[\"_\";string(m;.z.Z)],\".png\";}\n",
    " plt[`:show][];}"
   ]
  },
  {
   "cell_type": "code",
   "execution_count": null,
   "metadata": {},
   "outputs": [],
   "source": [
    "show s:.aml.rerun[rfc;holdout`xtest;holdout`ytest;;.ml.rmse]each c:cols t"
   ]
  },
  {
   "cell_type": "code",
   "execution_count": null,
   "metadata": {},
   "outputs": [],
   "source": [
    "show r:.aml.impact[s;c;`asc]"
   ]
  },
  {
   "cell_type": "code",
   "execution_count": null,
   "metadata": {},
   "outputs": [],
   "source": [
    ".aml.impactplot[r;`RandomForestClassifier]"
   ]
  },
  {
   "cell_type": "markdown",
   "metadata": {},
   "source": [
    "---"
   ]
  },
  {
   "cell_type": "markdown",
   "metadata": {},
   "source": [
    "Implement with pipeline"
   ]
  },
  {
   "cell_type": "markdown",
   "metadata": {},
   "source": [
    "---"
   ]
  },
  {
   "cell_type": "code",
   "execution_count": 1,
   "metadata": {},
   "outputs": [],
   "source": [
    "\\l ../automl.q\n",
    ".aml.loadfile`:init.q"
   ]
  },
  {
   "cell_type": "code",
   "execution_count": 5,
   "metadata": {},
   "outputs": [],
   "source": [
    "n:10000\n",
    "x:([]n?20;n?100f;asc n?100f)\n",
    "yr:asc n?100f / regression\n",
    "yc:20?0b       / binary classification\n",
    "ym:n?`a`b`c   / multi classification\n",
    "k:3           / number of folds\n",
    "p:.2          / percentage of holdout\n",
    "n:1           / number of repetitions\n",
    "score_func:.ml.xv.fitpredict"
   ]
  },
  {
   "cell_type": "code",
   "execution_count": 6,
   "metadata": {},
   "outputs": [],
   "source": [
    "tb:x\n",
    "tgt:yc\n",
    "mdls:.aml.models[`class;yc]\n",
    "p:(::)\n",
    "typ:`fresh"
   ]
  },
  {
   "cell_type": "code",
   "execution_count": 7,
   "metadata": {},
   "outputs": [
    {
     "name": "stdout",
     "output_type": "stream",
     "text": [
      "aggcols| `x\n",
      "params | (+(,`f)!,`absenergy`abssumchange`aggautocorr`augfuller`count`countab..\n",
      "xv     | `kfsplit\n",
      "prf    | {[f;p;d]($[-7h~type p;f[d;p];@[.[f[][p]`:fit;d 0]`:predict;d[1]0]`];..\n",
      "scf    | `class`reg!`.ml.accuracy`.ml.mse\n",
      "k      | 5\n",
      "seed   | 42\n"
     ]
    }
   ],
   "source": [
    "show dict:.aml.i.updparam[tb;p;typ];"
   ]
  },
  {
   "cell_type": "code",
   "execution_count": 8,
   "metadata": {},
   "outputs": [],
   "source": [
    "system \"S \",string s:dict`seed"
   ]
  },
  {
   "cell_type": "code",
   "execution_count": 9,
   "metadata": {},
   "outputs": [
    {
     "name": "stdout",
     "output_type": "stream",
     "text": [
      "x  x1       x2         \n",
      "-----------------------\n",
      "2  29.0322  0.002634036\n",
      "12 72.30934 0.01441627 \n",
      "0  83.75376 0.03936859 \n",
      "2  84.79524 0.04090026 \n",
      "1  19.42908 0.05090393 \n",
      "14 19.1311  0.05482773 \n",
      "2  25.85555 0.05538564 \n",
      "5  25.51313 0.06610537 \n",
      "7  93.41773 0.06665906 \n",
      "6  60.71418 0.07138648 \n",
      "15 58.83288 0.07692813 \n",
      "6  86.58619 0.07980864 \n",
      "6  30.96675 0.08175338 \n",
      "16 37.79346 0.1002563  \n",
      "2  85.73056 0.10602    \n",
      "18 72.96694 0.1130171  \n",
      "13 28.54082 0.1199678  \n",
      "5  37.8652  0.1289898  \n",
      "8  35.64297 0.1304162  \n",
      "9  51.21478 0.1401179  \n",
      "..\n"
     ]
    }
   ],
   "source": [
    "show tb:.aml.i.autotype[tb;typ;dict]"
   ]
  },
  {
   "cell_type": "code",
   "execution_count": 10,
   "metadata": {},
   "outputs": [
    {
     "name": "stdout",
     "output_type": "stream",
     "text": [
      "x  x1       x2         \n",
      "-----------------------\n",
      "2  29.0322  0.002634036\n",
      "12 72.30934 0.01441627 \n",
      "0  83.75376 0.03936859 \n",
      "2  84.79524 0.04090026 \n",
      "1  19.42908 0.05090393 \n",
      "14 19.1311  0.05482773 \n",
      "2  25.85555 0.05538564 \n",
      "5  25.51313 0.06610537 \n",
      "7  93.41773 0.06665906 \n",
      "6  60.71418 0.07138648 \n",
      "15 58.83288 0.07692813 \n",
      "6  86.58619 0.07980864 \n",
      "6  30.96675 0.08175338 \n",
      "16 37.79346 0.1002563  \n",
      "2  85.73056 0.10602    \n",
      "18 72.96694 0.1130171  \n",
      "13 28.54082 0.1199678  \n",
      "5  37.8652  0.1289898  \n",
      "8  35.64297 0.1304162  \n",
      "9  51.21478 0.1401179  \n",
      "..\n"
     ]
    }
   ],
   "source": [
    "show tb:.aml.preproc[tb;tgt;typ;dict];"
   ]
  },
  {
   "cell_type": "code",
   "execution_count": 11,
   "metadata": {},
   "outputs": [
    {
     "name": "stderr",
     "output_type": "stream",
     "text": [
      "/home/deanna/anaconda3/lib/python3.6/site-packages/scipy/stats/stats.py:1713: FutureWarning: Using a non-tuple sequence for multidimensional indexing is deprecated; use `arr[tuple(seq)]` instead of `arr[seq]`. In the future this will be interpreted as an array index, `arr[np.array(seq)]`, which will result either in an error or a different result.\n",
      "  return np.add.reduce(sorted[indexer] * weights, axis=axis) / sumval\n"
     ]
    },
    {
     "name": "stdout",
     "output_type": "stream",
     "text": [
      "x1_absenergy x1_abssumchange x1_count x1_countabovemean x1_countbelowmean x1_..\n",
      "-----------------------------------------------------------------------------..\n",
      "1670396      15856.66        490      247               243               0.6..\n",
      "1635423      17395.65        491      250               241               0.0..\n",
      "1732467      17433.42        506      253               253               0.3..\n",
      "1693819      16076.21        477      241               236               0.4..\n",
      "1561069      15663.79        471      228               243               0.8..\n",
      "1577929      15685.5         490      241               249               0.1..\n",
      "1622323      15660.2         497      245               252               0.2..\n",
      "1667355      18606.42        520      255               265               0.2..\n",
      "1670311      15641.76        494      246               248               0.7..\n",
      "1666780      16641.52        512      258               254               0.6..\n",
      "1523024      14457.78        472      228               244               0.4..\n",
      "1619053      16528.5         482      245               237               0.6..\n",
      "1661535      17344.06        516      254               262               0.5..\n",
      "1538486      15036.75        469      225               244               0.0..\n",
      "1735970      17820.11        522      259               263               0.1..\n",
      "1736469      17726.59        535      261               274               0.0..\n",
      "1708779      16312.23        517      246               271               0.0..\n",
      "1746975      16833.65        525      258               267               0.8..\n",
      "1591554      15460.61        482      239               243               0.3..\n",
      "1822560      17545.2         532      268               264               0.6..\n"
     ]
    }
   ],
   "source": [
    "show tb:.aml.freshcreate[tb;dict]"
   ]
  },
  {
   "cell_type": "code",
   "execution_count": 13,
   "metadata": {},
   "outputs": [],
   "source": [
    "/.aml.runmodels\n",
    "if[11h~type tgt;tgt:![dy;til count dy:distinct tgt]tgt]"
   ]
  },
  {
   "cell_type": "code",
   "execution_count": 17,
   "metadata": {},
   "outputs": [
    {
     "data": {
      "text/plain": [
       "{[tb;tgt;typ;mdls;p]\n",
       " dict:i.updparam[tb;p;typ];\n",
       " system \"S \",string s:dict`seed;\n",
       " tb:i.autotype[tb;typ;dict];\n",
       " tb:preproc[tb;tgt;typ;dict];\n",
       " -1\"\\nData preprocessing completed, starting feature creation\\n\";\n",
       " tb:freshcreate[tb;dict];\n",
       " -1\"Feature creation completed, starting initial model selection - allow time..\n",
       " -1\"Total features created = \",string[count 1_cols tb],\"\\n\";\n",
       " r:runmodels[flip value flip tb;tgt;mdls;dict];\n",
       " -1\"A ranking of the best models has now been completed, continuing to the ne..\n",
       " r}\n"
      ]
     },
     "execution_count": 17,
     "metadata": {},
     "output_type": "execute_result"
    }
   ],
   "source": [
    ".aml.runexample"
   ]
  },
  {
   "cell_type": "code",
   "execution_count": 18,
   "metadata": {},
   "outputs": [
    {
     "data": {
      "text/plain": [
       "{[x;y;m;d]\n",
       " system\"S \",string s:d`seed;\n",
       " if[11h~type y;y:![dy;til count dy:distinct y]y];\n",
       " r:.ml.gs.seed[x;y;d]'[m];\n",
       " fn:$[`reg in distinct m`typ;d[`scf]`reg;d[`scf]`class];  / scoring function ..\n",
       " sco:i.txtparse[`score;\"/code/mdl_def/\"];\t          / sco = score ordering tab\n",
       " get[string first sco fn]m[`model]!{first avg x}each get[fn].''r}\n"
      ]
     },
     "execution_count": 18,
     "metadata": {},
     "output_type": "execute_result"
    }
   ],
   "source": [
    ".aml.runmodels"
   ]
  },
  {
   "cell_type": "code",
   "execution_count": 20,
   "metadata": {},
   "outputs": [
    {
     "data": {
      "text/plain": [
       "aggcols| `x\n",
       "params | (+(,`f)!,`absenergy`abssumchange`aggautocorr`augfuller`count`countab..\n",
       "xv     | `kfsplit\n",
       "prf    | {[f;p;d]($[-7h~type p;f[d;p];@[.[f[][p]`:fit;d 0]`:predict;d[1]0]`];..\n",
       "scf    | `class`reg!`.ml.accuracy`.ml.mse\n",
       "k      | 5\n",
       "seed   | 42\n"
      ]
     },
     "execution_count": 20,
     "metadata": {},
     "output_type": "execute_result"
    }
   ],
   "source": [
    "dict"
   ]
  },
  {
   "cell_type": "code",
   "execution_count": 21,
   "metadata": {},
   "outputs": [
    {
     "data": {
      "text/plain": [
       "{[x;y;d;m]\n",
       " b:m[`lib]~`sklearn;\n",
       " s:$[a:m[`seed]~`seed;$[b;enlist[`random_state]!enlist d`seed;d`seed];::];\n",
       " $[a&b;first value get[` sv`.ml.gs,d`xv][d`k;1;x;y;d[`prf]m`minit;s;0];\n",
       "   get[` sv`.ml.xv,d`xv][d`k;1;x;y;d[`prf][m`minit;s]]]}\n"
      ]
     },
     "execution_count": 21,
     "metadata": {},
     "output_type": "execute_result"
    }
   ],
   "source": [
    ".ml.gs.seed"
   ]
  },
  {
   "cell_type": "code",
   "execution_count": 18,
   "metadata": {},
   "outputs": [
    {
     "ename": "\u001b[0;31mcall: float() argument must be a string or a number, not 'dict'\u001b[0m",
     "evalue": "\u001b[0;31mcall: float() argument must be a string or a number, not 'dict'\u001b[0m",
     "output_type": "error",
     "traceback": [
      "\u001b[0;31mevaluation error:\n\u001b[0m",
      "\u001b[0;31mcall: float() argument must be a string or a number, not 'dict'\u001b[0m",
      "\u001b[0;31m\u001b[0m",
      "\u001b[0;31m  [9]  /home/deanna/git/embedPy/p.q:29: .p.embedPy:\n        '`NYI];\n      wrap pyfunc[f]. x];\n                    ^\n    \":\"~first a0:string x0;                                                / attr lookup and possible call\n\u001b[0m",
      "\u001b[0;31m  [8]  /home/deanna/git/embedPy/p.q:37: .p.i.wf:{[f;x]embedPy[f;x]}\n                                                      ^\n\u001b[0m",
      "\u001b[0;31m  [7]  /home/deanna/automl/code/xval.q:12: .ml.xv.fitpredict:{[f;p;d]($[-7h~type p;f[d;p];@[.[f[][p]`:fit;d 0]`:predict;d[1]0]`];d[1]1)}\n                                                                                            ^\n\u001b[0m",
      "\u001b[0;31m  [6]  /home/deanna/q/ml/xval/xval.q:20: {[f;d]f d[]}\n                                               ^\n\u001b[0m",
      "\u001b[0;31m  [5]  (.q.peach)\n\n\u001b[0m",
      "\u001b[0;31m  [4]  /home/deanna/q/ml/xval/xval.q:20: {[idx;k;n;x;y;f]{[f;d]f d[]}[f]peach raze idx[k;n;x;y]}\n                                                                        ^\n\u001b[0m",
      "\u001b[0;31m  [3]  /home/deanna/q/ml/xval/xval.q:24: {[xv;k;n;x;y;f;p]p!(xv[k;n;x;y]f pykwargs@)@'p:key[p]!/:1_'(::)cross/value p}\n                                                                                     ^\n\u001b[0m",
      "\u001b[0;31m  [2]  /home/deanna/q/ml/xval/xval.q:22: {[gs;k;n;x;y;f;p;t]\n if[t=0;:gs[k;n;x;y;f;p]];i:(0,floor count[y]*1-abs t)_$[t<0;xv.i.shuffle;til count@]y;\n         ^\n (r;pr;f[pykwargs pr:first key desc avg each r:gs[k;n;x i 0;y i 0;f;p]](x;y)@\\:/:i)\n\u001b[0m",
      "\u001b[0;31m  [1]  /home/deanna/automl/code/xval.q:7: .ml.gs.seed:\n s:$[a:m[`seed]~`seed;$[b;enlist[`random_state]!enlist d`seed;d`seed];::];\n $[a&b;first value get[` sv`.ml.gs,d`xv][d`k;1;x;y;d[`prf]m`minit;s;0];\n                   ^\n   get[` sv`.ml.xv,d`xv][d`k;1;x;y;d[`prf][m`minit;s]]]}\n\u001b[0m",
      "\u001b[0;31m  [0]  r:.ml.gs.seed[tb;tgt;dict]'[mdls]\n                                 ^\n\u001b[0m"
     ]
    }
   ],
   "source": [
    "r:.ml.gs.seed[tb;tgt;dict]'[mdls] //???"
   ]
  },
  {
   "cell_type": "code",
   "execution_count": null,
   "metadata": {},
   "outputs": [],
   "source": [
    "tb:t;\n",
    "tgt:y;\n",
    "typ:`fresh\n",
    "mdls:.aml.models[`class;y]\n",
    "p:(::)"
   ]
  },
  {
   "cell_type": "code",
   "execution_count": null,
   "metadata": {},
   "outputs": [],
   "source": [
    "dict:.aml.i.updparam[tb;p;typ]"
   ]
  },
  {
   "cell_type": "code",
   "execution_count": null,
   "metadata": {},
   "outputs": [],
   "source": [
    "runexample:{[tb;tgt;typ;mdls;p]\n",
    " dict:i.updparam[tb;p;typ];\n",
    " system \"S \",string s:dict`seed;\n",
    " tb:i.autotype[tb;typ;dict];\n",
    " tb:preproc[tb;tgt;typ;dict];\n",
    " -1\"\\nData preprocessing completed, starting feature creation\\n\";\n",
    " tb:freshcreate[tb;dict];\n",
    " -1\"Feature creation completed, starting initial model selection - allow time for large datasets\\n\";\n",
    " -1\"Total features created = \",string[count 1_cols tb],\"\\n\";\n",
    " r:runmodels[flip value flip tb;tgt;mdls;dict];\n",
    " -1\"A ranking of the best models has now been completed, continuing to the next step\\n\";\n",
    " r}"
   ]
  }
 ],
 "metadata": {
  "kernelspec": {
   "display_name": "Q (kdb+)",
   "language": "q",
   "name": "qpk"
  },
  "language_info": {
   "file_extension": ".q",
   "mimetype": "text/x-q",
   "name": "q",
   "version": "3.6.0"
  }
 },
 "nbformat": 4,
 "nbformat_minor": 2
}
